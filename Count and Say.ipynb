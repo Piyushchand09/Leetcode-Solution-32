{
 "cells": [
  {
   "cell_type": "code",
   "execution_count": null,
   "id": "b55ebf1a",
   "metadata": {
    "vscode": {
     "languageId": "plaintext"
    }
   },
   "outputs": [],
   "source": [
    "#Count and Say\n",
    "class Solution:\n",
    "    def countAndSay(self, n: int) -> str:\n",
    "        res = \"1\"\n",
    "        for _ in range(n - 1):\n",
    "            temp, i = \"\", 0\n",
    "            while i < len(res):\n",
    "                count = 1\n",
    "                while i + 1 < len(res) and res[i] == res[i + 1]:\n",
    "                    i += 1\n",
    "                    count += 1\n",
    "                temp += str(count) + res[i]\n",
    "                i += 1\n",
    "            res = temp\n",
    "        return res\n",
    "        "
   ]
  }
 ],
 "metadata": {
  "kernelspec": {
   "display_name": "Python 3 (ipykernel)",
   "language": "python",
   "name": "python3"
  },
  "language_info": {
   "codemirror_mode": {
    "name": "ipython",
    "version": 3
   },
   "file_extension": ".py",
   "mimetype": "text/x-python",
   "name": "python",
   "nbconvert_exporter": "python",
   "pygments_lexer": "ipython3",
   "version": "3.12.4"
  }
 },
 "nbformat": 4,
 "nbformat_minor": 5
}
